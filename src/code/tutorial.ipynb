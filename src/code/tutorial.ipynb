{
 "cells": [
  {
   "cell_type": "markdown",
   "id": "ddcbf3bb-bcbc-4f1c-9370-6684afdd7487",
   "metadata": {},
   "source": [
    "# Nishika チュートリアル\n",
    "\n",
    "[日本酒銘柄画像検索のチュートリアル実践ファイル](https://competition.nishika.com/competitions/sake/topics/588)"
   ]
  },
  {
   "cell_type": "code",
   "execution_count": 1,
   "id": "ee6e6e0f-78d0-4b0f-b4c2-9a2056933ff3",
   "metadata": {
    "scrolled": true
   },
   "outputs": [
    {
     "name": "stdout",
     "output_type": "stream",
     "text": [
      "Thu Jun 29 11:30:41 2023       \n",
      "+-----------------------------------------------------------------------------+\n",
      "| NVIDIA-SMI 470.182.03   Driver Version: 470.182.03   CUDA Version: 11.4     |\n",
      "|-------------------------------+----------------------+----------------------+\n",
      "| GPU  Name        Persistence-M| Bus-Id        Disp.A | Volatile Uncorr. ECC |\n",
      "| Fan  Temp  Perf  Pwr:Usage/Cap|         Memory-Usage | GPU-Util  Compute M. |\n",
      "|                               |                      |               MIG M. |\n",
      "|===============================+======================+======================|\n",
      "|   0  NVIDIA RTX A6000    Off  | 00000000:17:00.0 Off |                  Off |\n",
      "| 30%   59C    P0    81W / 300W |      0MiB / 48682MiB |      2%      Default |\n",
      "|                               |                      |                  N/A |\n",
      "+-------------------------------+----------------------+----------------------+\n",
      "                                                                               \n",
      "+-----------------------------------------------------------------------------+\n",
      "| Processes:                                                                  |\n",
      "|  GPU   GI   CI        PID   Type   Process name                  GPU Memory |\n",
      "|        ID   ID                                                   Usage      |\n",
      "|=============================================================================|\n",
      "|  No running processes found                                                 |\n",
      "+-----------------------------------------------------------------------------+\n"
     ]
    }
   ],
   "source": [
    "!nvidia-smi"
   ]
  },
  {
   "cell_type": "code",
   "execution_count": 5,
   "id": "df999770-d035-463d-a702-a0db40322586",
   "metadata": {},
   "outputs": [
    {
     "name": "stderr",
     "output_type": "stream",
     "text": [
      "/root/.cache/pypoetry/virtualenvs/nihonshu-image-search-HYX01F-d-py3.9/lib/python3.9/site-packages/tqdm/auto.py:21: TqdmWarning: IProgress not found. Please update jupyter and ipywidgets. See https://ipywidgets.readthedocs.io/en/stable/user_install.html\n",
      "  from .autonotebook import tqdm as notebook_tqdm\n"
     ]
    }
   ],
   "source": [
    "import collections\n",
    "import math\n",
    "import os\n",
    "import random\n",
    "import typing\n",
    "from pathlib import Path\n",
    "\n",
    "import faiss\n",
    "import japanize_matplotlib\n",
    "import matplotlib.pyplot as plt\n",
    "import missingno as msno\n",
    "import numpy as np\n",
    "import pandas as pd\n",
    "import seaborn as sns\n",
    "import timm\n",
    "import torch\n",
    "import torch.nn.functional as F\n",
    "import torch.optim as optim\n",
    "import torchvision\n",
    "from albumentations import Compose, Normalize, Resize\n",
    "from albumentations.pytorch.transforms import ToTensorV2\n",
    "from PIL import Image\n",
    "from sklearn.model_selection import StratifiedKFold\n",
    "from sklearn.preprocessing import LabelEncoder\n",
    "from torch import nn\n",
    "from torch.nn import CrossEntropyLoss, Parameter\n",
    "from torch.utils.data import DataLoader, Dataset\n",
    "from tqdm.notebook import tqdm"
   ]
  },
  {
   "cell_type": "code",
   "execution_count": 6,
   "id": "7375b03c-85bc-466f-9ef7-b66969d6eb8d",
   "metadata": {},
   "outputs": [
    {
     "name": "stdout",
     "output_type": "stream",
     "text": [
      "/home/user/code/src/code\n"
     ]
    }
   ],
   "source": [
    "# !pip install japanize_matplotlib\n",
    "# !pip install missingno\n",
    "# !pip install timm\n",
    "# !pip install albumentations\n",
    "\n",
    "print(os.getcwd())"
   ]
  },
  {
   "cell_type": "code",
   "execution_count": 7,
   "id": "a4488d0c-4891-4d4d-b1a4-710b3dd078a4",
   "metadata": {},
   "outputs": [],
   "source": [
    "BASE_DIR = Path(\"../\")\n",
    "DATA_DIR = BASE_DIR.joinpath(\"data\")\n",
    "FEATURES_DIR = BASE_DIR.joinpath(\"features\")\n",
    "OUT_DIR = BASE_DIR.joinpath(\"output\")\n",
    "INDEX_DIR = BASE_DIR.joinpath(\"index\")\n",
    "MODEL_DIR = BASE_DIR.joinpath(\"model\")\n",
    "CITE_IMG_DIR = Path(\"cite_images\")\n",
    "QUERY_IMG_DIR = Path(\"query_images\")\n",
    "DEVICE = \"cuda\" if torch.cuda.is_available() else \"cpu\"\n",
    "EXP_NAME=\"cpt-sake-tutorial\"\n",
    "\n",
    "\n",
    "class CFG:\n",
    "    img_size = 224\n",
    "    model_name = \"convnext_base\"\n",
    "    in_channels = 3\n",
    "    embedding_dim = 128\n",
    "    pretrained = True\n",
    "    batch_size = 128\n",
    "    n_workers = 0\n",
    "    seed = 0"
   ]
  },
  {
   "cell_type": "code",
   "execution_count": 8,
   "id": "3805b8c4-2223-460a-90ed-ba0ece55aff7",
   "metadata": {},
   "outputs": [],
   "source": [
    "def seed_torch(seed=42):\n",
    "    random.seed(seed)\n",
    "    os.environ['PYTHONHASHSEED'] = str(seed)\n",
    "    np.random.seed(seed)\n",
    "    torch.manual_seed(seed)\n",
    "    torch.cuda.manual_seed(seed)\n",
    "    torch.backends.cudnn.deterministic = True\n",
    "\n",
    "seed_torch(CFG.seed)"
   ]
  },
  {
   "cell_type": "markdown",
   "id": "b9d2b3e5-387d-41ca-bed8-461b8e9b41cb",
   "metadata": {},
   "source": [
    "# データ"
   ]
  },
  {
   "cell_type": "code",
   "execution_count": 9,
   "id": "d656bb5b-4273-4651-84d0-00e2167409f6",
   "metadata": {},
   "outputs": [],
   "source": [
    "cite_filepath = DATA_DIR.joinpath(\"cite.csv\")\n",
    "train_filepath = DATA_DIR.joinpath(\"train.csv\")\n",
    "test_filepath = DATA_DIR.joinpath(\"test.csv\")\n",
    "sub_filepath = DATA_DIR.joinpath(\"sample_submission.csv\")\n",
    "df_cite = pd.read_csv(cite_filepath)\n",
    "df_train = pd.read_csv(train_filepath)\n",
    "df_test = pd.read_csv(test_filepath)\n",
    "df_sub = pd.read_csv(sub_filepath)"
   ]
  },
  {
   "cell_type": "markdown",
   "id": "1125cdba-fda3-47d1-a3d8-99c098eb52d5",
   "metadata": {},
   "source": [
    "## データの形式，概要確認"
   ]
  },
  {
   "cell_type": "code",
   "execution_count": 10,
   "id": "85058553-e4d8-4dc7-9038-d5dea17a0532",
   "metadata": {},
   "outputs": [
    {
     "data": {
      "text/plain": [
       "(109481, 2)"
      ]
     },
     "execution_count": 10,
     "metadata": {},
     "output_type": "execute_result"
    }
   ],
   "source": [
    "df_cite.shape"
   ]
  },
  {
   "cell_type": "code",
   "execution_count": 11,
   "id": "70831125-012c-4b89-8472-19a21c2ad96b",
   "metadata": {},
   "outputs": [
    {
     "data": {
      "text/html": [
       "<div>\n",
       "<style scoped>\n",
       "    .dataframe tbody tr th:only-of-type {\n",
       "        vertical-align: middle;\n",
       "    }\n",
       "\n",
       "    .dataframe tbody tr th {\n",
       "        vertical-align: top;\n",
       "    }\n",
       "\n",
       "    .dataframe thead th {\n",
       "        text-align: right;\n",
       "    }\n",
       "</style>\n",
       "<table border=\"1\" class=\"dataframe\">\n",
       "  <thead>\n",
       "    <tr style=\"text-align: right;\">\n",
       "      <th></th>\n",
       "      <th>cite_gid</th>\n",
       "      <th>cite_filename</th>\n",
       "    </tr>\n",
       "  </thead>\n",
       "  <tbody>\n",
       "    <tr>\n",
       "      <th>0</th>\n",
       "      <td>100000001</td>\n",
       "      <td>100000001.jpg</td>\n",
       "    </tr>\n",
       "    <tr>\n",
       "      <th>1</th>\n",
       "      <td>100000002</td>\n",
       "      <td>100000002.jpg</td>\n",
       "    </tr>\n",
       "    <tr>\n",
       "      <th>2</th>\n",
       "      <td>100000003</td>\n",
       "      <td>100000003.jpg</td>\n",
       "    </tr>\n",
       "    <tr>\n",
       "      <th>3</th>\n",
       "      <td>100000004</td>\n",
       "      <td>100000004.jpg</td>\n",
       "    </tr>\n",
       "    <tr>\n",
       "      <th>4</th>\n",
       "      <td>100000005</td>\n",
       "      <td>100000005.jpg</td>\n",
       "    </tr>\n",
       "  </tbody>\n",
       "</table>\n",
       "</div>"
      ],
      "text/plain": [
       "    cite_gid  cite_filename\n",
       "0  100000001  100000001.jpg\n",
       "1  100000002  100000002.jpg\n",
       "2  100000003  100000003.jpg\n",
       "3  100000004  100000004.jpg\n",
       "4  100000005  100000005.jpg"
      ]
     },
     "execution_count": 11,
     "metadata": {},
     "output_type": "execute_result"
    }
   ],
   "source": [
    "df_cite.head()"
   ]
  },
  {
   "cell_type": "code",
   "execution_count": 46,
   "id": "664fbbb7-a924-4642-9bf4-a192a5b99d8a",
   "metadata": {},
   "outputs": [
    {
     "data": {
      "text/html": [
       "<div>\n",
       "<style scoped>\n",
       "    .dataframe tbody tr th:only-of-type {\n",
       "        vertical-align: middle;\n",
       "    }\n",
       "\n",
       "    .dataframe tbody tr th {\n",
       "        vertical-align: top;\n",
       "    }\n",
       "\n",
       "    .dataframe thead th {\n",
       "        text-align: right;\n",
       "    }\n",
       "</style>\n",
       "<table border=\"1\" class=\"dataframe\">\n",
       "  <thead>\n",
       "    <tr style=\"text-align: right;\">\n",
       "      <th></th>\n",
       "      <th>cite_gid</th>\n",
       "      <th>cite_filename</th>\n",
       "    </tr>\n",
       "  </thead>\n",
       "  <tbody>\n",
       "    <tr>\n",
       "      <th>0</th>\n",
       "      <td>100000001</td>\n",
       "      <td>100000001.jpg</td>\n",
       "    </tr>\n",
       "    <tr>\n",
       "      <th>1</th>\n",
       "      <td>100000002</td>\n",
       "      <td>100000002.jpg</td>\n",
       "    </tr>\n",
       "    <tr>\n",
       "      <th>2</th>\n",
       "      <td>100000003</td>\n",
       "      <td>100000003.jpg</td>\n",
       "    </tr>\n",
       "    <tr>\n",
       "      <th>3</th>\n",
       "      <td>100000004</td>\n",
       "      <td>100000004.jpg</td>\n",
       "    </tr>\n",
       "    <tr>\n",
       "      <th>4</th>\n",
       "      <td>100000005</td>\n",
       "      <td>100000005.jpg</td>\n",
       "    </tr>\n",
       "  </tbody>\n",
       "</table>\n",
       "</div>"
      ],
      "text/plain": [
       "    cite_gid  cite_filename\n",
       "0  100000001  100000001.jpg\n",
       "1  100000002  100000002.jpg\n",
       "2  100000003  100000003.jpg\n",
       "3  100000004  100000004.jpg\n",
       "4  100000005  100000005.jpg"
      ]
     },
     "execution_count": 46,
     "metadata": {},
     "output_type": "execute_result"
    }
   ],
   "source": [
    "df_cite.is"
   ]
  },
  {
   "cell_type": "code",
   "execution_count": 47,
   "id": "6d99287b-241f-44a4-b96e-09871e4b74f8",
   "metadata": {},
   "outputs": [
    {
     "data": {
      "text/plain": [
       "(108160, 4)"
      ]
     },
     "execution_count": 47,
     "metadata": {},
     "output_type": "execute_result"
    }
   ],
   "source": [
    "df_train.shape"
   ]
  },
  {
   "cell_type": "code",
   "execution_count": 48,
   "id": "934c73d7-0635-44b5-b02e-f1b630152925",
   "metadata": {},
   "outputs": [
    {
     "ename": "AttributeError",
     "evalue": "'DataFrame' object has no attribute 'is_null'",
     "output_type": "error",
     "traceback": [
      "\u001b[0;31m---------------------------------------------------------------------------\u001b[0m",
      "\u001b[0;31mAttributeError\u001b[0m                            Traceback (most recent call last)",
      "\u001b[0;32m/tmp/ipykernel_350/1652313475.py\u001b[0m in \u001b[0;36m?\u001b[0;34m()\u001b[0m\n\u001b[0;32m----> 1\u001b[0;31m \u001b[0mdf_train\u001b[0m\u001b[0;34m.\u001b[0m\u001b[0mis_null\u001b[0m\u001b[0;34m(\u001b[0m\u001b[0;34m)\u001b[0m\u001b[0;34m\u001b[0m\u001b[0;34m\u001b[0m\u001b[0m\n\u001b[0m",
      "\u001b[0;32m/usr/local/lib/python3.8/dist-packages/pandas/core/generic.py\u001b[0m in \u001b[0;36m?\u001b[0;34m(self, name)\u001b[0m\n\u001b[1;32m   5985\u001b[0m             \u001b[0;32mand\u001b[0m \u001b[0mname\u001b[0m \u001b[0;32mnot\u001b[0m \u001b[0;32min\u001b[0m \u001b[0mself\u001b[0m\u001b[0;34m.\u001b[0m\u001b[0m_accessors\u001b[0m\u001b[0;34m\u001b[0m\u001b[0;34m\u001b[0m\u001b[0m\n\u001b[1;32m   5986\u001b[0m             \u001b[0;32mand\u001b[0m \u001b[0mself\u001b[0m\u001b[0;34m.\u001b[0m\u001b[0m_info_axis\u001b[0m\u001b[0;34m.\u001b[0m\u001b[0m_can_hold_identifiers_and_holds_name\u001b[0m\u001b[0;34m(\u001b[0m\u001b[0mname\u001b[0m\u001b[0;34m)\u001b[0m\u001b[0;34m\u001b[0m\u001b[0;34m\u001b[0m\u001b[0m\n\u001b[1;32m   5987\u001b[0m         ):\n\u001b[1;32m   5988\u001b[0m             \u001b[0;32mreturn\u001b[0m \u001b[0mself\u001b[0m\u001b[0;34m[\u001b[0m\u001b[0mname\u001b[0m\u001b[0;34m]\u001b[0m\u001b[0;34m\u001b[0m\u001b[0;34m\u001b[0m\u001b[0m\n\u001b[0;32m-> 5989\u001b[0;31m         \u001b[0;32mreturn\u001b[0m \u001b[0mobject\u001b[0m\u001b[0;34m.\u001b[0m\u001b[0m__getattribute__\u001b[0m\u001b[0;34m(\u001b[0m\u001b[0mself\u001b[0m\u001b[0;34m,\u001b[0m \u001b[0mname\u001b[0m\u001b[0;34m)\u001b[0m\u001b[0;34m\u001b[0m\u001b[0;34m\u001b[0m\u001b[0m\n\u001b[0m",
      "\u001b[0;31mAttributeError\u001b[0m: 'DataFrame' object has no attribute 'is_null'"
     ]
    }
   ],
   "source": []
  },
  {
   "cell_type": "code",
   "execution_count": null,
   "id": "8d868620-8694-42f7-97ba-a8cab4412b98",
   "metadata": {},
   "outputs": [],
   "source": []
  },
  {
   "cell_type": "code",
   "execution_count": null,
   "id": "6bdad659-6d7f-4ca0-8582-8cdb9aa71526",
   "metadata": {},
   "outputs": [],
   "source": []
  },
  {
   "cell_type": "code",
   "execution_count": null,
   "id": "fcdeaf8e-3b71-49c7-9d4a-3c60335d8769",
   "metadata": {},
   "outputs": [],
   "source": []
  },
  {
   "cell_type": "code",
   "execution_count": null,
   "id": "60dc0a38-18a9-4d6a-98bd-169782bf0ddc",
   "metadata": {},
   "outputs": [],
   "source": []
  },
  {
   "cell_type": "code",
   "execution_count": null,
   "id": "fd85d743-cdcc-4490-bd36-2e6291ceabbb",
   "metadata": {},
   "outputs": [],
   "source": []
  },
  {
   "cell_type": "code",
   "execution_count": null,
   "id": "4a86a5f7-ebcd-4f59-9f72-aee25493bf7e",
   "metadata": {},
   "outputs": [],
   "source": []
  },
  {
   "cell_type": "markdown",
   "id": "220e0e5f-5050-4206-8fcc-e4ed082c3370",
   "metadata": {},
   "source": [
    "## 訓練データの brand_id, meigara"
   ]
  },
  {
   "cell_type": "code",
   "execution_count": 31,
   "id": "47d4c4cf-3145-4a1c-9ed4-80eef6645045",
   "metadata": {},
   "outputs": [
    {
     "name": "stdout",
     "output_type": "stream",
     "text": [
      "訓練データ内のbrand_idの種類数：2515\n"
     ]
    },
    {
     "data": {
      "image/png": "[encoded data removed]",
      "text/plain": [
       "<Figure size 640x480 with 1 Axes>"
      ]
     },
     "metadata": {},
     "output_type": "display_data"
    }
   ],
   "source": [
    "topn = 20\n",
    "print(\"訓練データ内のbrand_idの種類数：{:4d}\".format(df_train[\"brand_id\"].nunique()))\n",
    "ax = sns.countplot(x = df_train[\"brand_id\"], order=pd.value_counts(df_train['brand_id']).iloc[:topn].index)\n",
    "ax.set_xticklabels(ax.get_xticklabels(),rotation = 30)\n",
    "plt.show()"
   ]
  },
  {
   "cell_type": "code",
   "execution_count": 32,
   "id": "aa7f52cf-3566-4be6-9dad-117ea6b84ebe",
   "metadata": {},
   "outputs": [
    {
     "name": "stdout",
     "output_type": "stream",
     "text": [
      "訓練データ内のmeigaraの種類数：2498\n"
     ]
    },
    {
     "data": {
      "image/png": "[encoded data removed]",
      "text/plain": [
       "<Figure size 640x480 with 1 Axes>"
      ]
     },
     "metadata": {},
     "output_type": "display_data"
    }
   ],
   "source": [
    "topn = 20\n",
    "print(\"訓練データ内のmeigaraの種類数：{:4d}\".format(df_train[\"meigara\"].nunique()))\n",
    "ax = sns.countplot(x = df_train[\"meigara\"], order=pd.value_counts(df_train['meigara']).iloc[:topn].index)\n",
    "ax.set_xticklabels(ax.get_xticklabels(),rotation = 30)\n",
    "plt.show()"
   ]
  },
  {
   "cell_type": "code",
   "execution_count": null,
   "id": "b9bc546d-4c94-4f2f-9540-1b1b76c4a32e",
   "metadata": {},
   "outputs": [],
   "source": []
  }
 ],
 "metadata": {
  "kernelspec": {
   "display_name": "Python 3 (ipykernel)",
   "language": "python",
   "name": "python3"
  },
  "language_info": {
   "codemirror_mode": {
    "name": "ipython",
    "version": 3
   },
   "file_extension": ".py",
   "mimetype": "text/x-python",
   "name": "python",
   "nbconvert_exporter": "python",
   "pygments_lexer": "ipython3",
   "version": "3.9.17"
  }
 },
 "nbformat": 4,
 "nbformat_minor": 5
}
